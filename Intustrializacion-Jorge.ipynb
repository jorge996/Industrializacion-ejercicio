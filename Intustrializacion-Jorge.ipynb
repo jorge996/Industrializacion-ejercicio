{
 "cells": [
  {
   "cell_type": "code",
   "execution_count": 227,
   "metadata": {},
   "outputs": [],
   "source": [
    "import pandas as pd\n",
    "import numpy as np\n",
    "import xgboost as xgb\n",
    "import pickle\n",
    "from flask import Flask, request, jsonify"
   ]
  },
  {
   "cell_type": "code",
   "execution_count": 228,
   "metadata": {},
   "outputs": [
    {
     "name": "stdout",
     "output_type": "stream",
     "text": [
      "[[ 108    0]\n",
      " [   0 1219]]\n",
      "1.0\n",
      "1.0\n",
      "1.0\n",
      "[[  9  18]\n",
      " [  0 305]]\n",
      "0.9457831325301205\n",
      "1.0\n",
      "0.9442724458204335\n"
     ]
    },
    {
     "name": "stderr",
     "output_type": "stream",
     "text": [
      "c:\\Users\\USUARIO\\AppData\\Local\\Programs\\Python\\Python310\\lib\\site-packages\\xgboost\\core.py:160: UserWarning: [20:46:07] WARNING: C:\\buildkite-agent\\builds\\buildkite-windows-cpu-autoscaling-group-i-0b3782d1791676daf-1\\xgboost\\xgboost-ci-windows\\src\\learner.cc:742: \n",
      "Parameters: { \"n_stimators\" } are not used.\n",
      "\n",
      "  warnings.warn(smsg, UserWarning)\n"
     ]
    }
   ],
   "source": [
    "# Creación del dataset\n",
    "\n",
    "df = pd.read_csv('data/Chronic_Kidney_Dsease_data.csv')\n",
    "df.drop(columns=['PatientID', 'DoctorInCharge'], inplace=True)\n",
    "df = pd.get_dummies(df, columns=['Ethnicity', 'SocioeconomicStatus', 'EducationLevel'])\n",
    "\n",
    "# Comenzamos el modelo\n",
    "X = df.drop(columns=['Diagnosis'])\n",
    "y = df['Diagnosis']\n",
    "\n",
    "from sklearn.model_selection import train_test_split\n",
    "\n",
    "X_train, X_test, y_train, y_test = train_test_split(X, y, test_size=.2, random_state=1453)\n",
    "\n",
    "xgb_cls = xgb.XGBClassifier(random_state = 1453)\n",
    "\n",
    "\n",
    "# Declaramos algunos parametros\n",
    "xgb_cls.set_params(n_stimators=10, max_depth= 3)\n",
    "xgb_cls.fit(X_train, y_train)\n",
    "\n",
    "\n",
    "from sklearn.metrics import accuracy_score, recall_score, precision_score, confusion_matrix\n",
    "\n",
    "# Comprobamos datos del train\n",
    "print(confusion_matrix(y_train, xgb_cls.predict(X_train)))\n",
    "print(accuracy_score(y_train, xgb_cls.predict(X_train)))\n",
    "print(recall_score(y_train, xgb_cls.predict(X_train)))\n",
    "print(precision_score(y_train, xgb_cls.predict(X_train)))\n",
    "\n",
    "# Comprobamos datos del test\n",
    "print(confusion_matrix(y_test, xgb_cls.predict(X_test)))\n",
    "print(accuracy_score(y_test, xgb_cls.predict(X_test)))\n",
    "print(recall_score(y_test, xgb_cls.predict(X_test)))\n",
    "print(precision_score(y_test, xgb_cls.predict(X_test)))"
   ]
  },
  {
   "cell_type": "code",
   "execution_count": 229,
   "metadata": {},
   "outputs": [],
   "source": [
    "# Guardar en un pickle el modelo y los train y test\n",
    "with open('model_and_test_train.pkl', 'wb') as file:\n",
    "    pickle.dump((df, xgb_cls, X_train, X_test, y_train, y_test), file)\n",
    "\n",
    "\n"
   ]
  },
  {
   "cell_type": "code",
   "execution_count": 230,
   "metadata": {},
   "outputs": [],
   "source": [
    "# Cargar el modelo del pickle\n",
    "with open('model_and_test_train.pkl', 'rb') as file:\n",
    "    df, xgb_cls, X_train, X_test, y_train, y_test = pickle.load(file)"
   ]
  },
  {
   "cell_type": "markdown",
   "metadata": {},
   "source": [
    "Pasar nuestros datos a JSON"
   ]
  },
  {
   "cell_type": "code",
   "execution_count": 231,
   "metadata": {},
   "outputs": [],
   "source": [
    "df_json = df.to_json(orient='records')\n",
    "with open('data/Chronic_Kidney_Disease_data.json', 'w') as file:\n",
    "    file.write(df_json)"
   ]
  },
  {
   "cell_type": "code",
   "execution_count": 232,
   "metadata": {},
   "outputs": [],
   "source": [
    "app = Flask(__name__)\n",
    "app.config['DEBUG'] = False"
   ]
  },
  {
   "cell_type": "code",
   "execution_count": 233,
   "metadata": {},
   "outputs": [
    {
     "name": "stdout",
     "output_type": "stream",
     "text": [
      " * Serving Flask app '__main__'\n",
      " * Debug mode: off\n"
     ]
    },
    {
     "name": "stderr",
     "output_type": "stream",
     "text": [
      "WARNING: This is a development server. Do not use it in a production deployment. Use a production WSGI server instead.\n",
      " * Running on http://127.0.0.1:5000\n",
      "Press CTRL+C to quit\n"
     ]
    }
   ],
   "source": [
    "@app.route('/', methods=['GET'])\n",
    "def home():\n",
    "\treturn \"<h1>Estudio de enfermedades renales crónicas</h1><p>Esta API nos aporta los datos de unos pacientes sobre los que se ha estudiado enfermedades renales crónicas.</p>\"\n",
    "\n",
    "\n",
    "# TODOS LOS DATOS\n",
    "@app.route('/api/v1/resources/data/all', methods=['GET']) \n",
    "def api_all():\n",
    "\n",
    "#    df = pd.read_csv('data/Chronic_Kidney_Dsease_data.csv')\n",
    "    df_json = df.to_json(orient='records')\n",
    "    return df_json\n",
    "\n",
    "# TEST\n",
    "\n",
    "@app.route('/api/v1/resources/data/test', methods=['GET'])\n",
    "def api_test():\n",
    "    y_test_join = pd.DataFrame(y_test)\n",
    "    y_test_reset = y_test_join.reset_index()\n",
    "    y_test_reset\n",
    "\n",
    "    X_test_join = pd.DataFrame(X_test)\n",
    "    X_test_reset = X_test_join.reset_index()\n",
    "    X_test_reset\n",
    "\n",
    "    test = X_test_reset.merge(y_test_reset, on='index')\n",
    "    test = test.drop(columns=['index'])\n",
    "    test_json = test.to_json(orient='records')\n",
    "    return test_json\n",
    "\n",
    "\n",
    "# TRAIN\n",
    "\n",
    "@app.route('/api/v1/resources/data/train', methods=['GET'])\n",
    "def api_train():\n",
    "    y_train_join = pd.DataFrame(y_train)\n",
    "    y_train_reset = y_train_join.reset_index()\n",
    "    y_train_reset\n",
    "\n",
    "    X_train_join = pd.DataFrame(X_train)\n",
    "    X_train_reset = X_train_join.reset_index()\n",
    "    X_train_reset\n",
    "\n",
    "    train = X_train_reset.merge(y_train_reset, on='index')\n",
    "    train = train.drop(columns=['index'])\n",
    "    train_json = train.to_json(orient='records')\n",
    "    return train_json\n",
    "\n",
    "\n",
    "# No he conseguido que esto termine de funcionar\n",
    "#@app.route('/api/v1/resources/data/all', methods=['GET']) \n",
    "#def api_observacion():\n",
    "#        df_index = df.reset_index()\n",
    "#        if 'index' in request.args: \n",
    "#            index_ = int(request.args['index'])\n",
    "#            results = df_index[df_index['index'] == index_]\n",
    "#            results_json = results.to_json(orient='records')\n",
    "#            return results_json\n",
    "\n",
    "\n",
    "# OBSERVACION N DEL DATASET\n",
    "\n",
    "@app.route('/api/v1/resources/data/all/<int:index>', methods=['GET'])\n",
    "def api_observacion(index):\n",
    "    df_index = df.reset_index()\n",
    "    results = df_index[df_index['index'] == index]\n",
    "    \n",
    "    if not results.empty: \n",
    "        results_json = results.to_json(orient='records')\n",
    "        return results_json\n",
    "    \n",
    "    else:\n",
    "        return jsonify('No se ha encontrado ningún paciente con ese index')\n",
    "         \n",
    "\n",
    "# QUERY CON LA QUE OBTENEMOS UNA ORQUILLA DE EDADES\n",
    "@app.route('/api/v1/resources/data/query', methods=['GET']) \n",
    "def api_query():\n",
    "\n",
    "    from_ = int(request.args[\"from\"])\n",
    "    to_ =  int(request.args[\"to\"])\n",
    "    results_query = df[(df[\"Age\"]>=from_) & (df[\"Age\"]<=to_)]\n",
    "    results_query_json = results_query.to_json(orient='records')\n",
    "    return results_query_json\n",
    "\n",
    "# No consigo hacerlo funcionar, me da error 400 constantemente\n",
    "#@app.route('/api/v1/resources/data/query', methods=['GET']) \n",
    "#def api_query_diagnosis():\n",
    "#\n",
    "#    diagnosis_ = int(request.args[\"diagnosis\"])\n",
    "#    results_query_diag = df[df[\"Diagnosis\"] == diagnosis_]\n",
    "#    results_query_diag = df[(df[\"Diagnosis\"]==diagnosis_)]\n",
    "#    results_query_diag_json = results_query_diag.to_json(orient='records')\n",
    "#    return results_query_diag_json\n",
    "\n",
    "\n",
    "# PREDICCIONES solo con test\n",
    "\n",
    "#@app.route('/api/v1/resources/data/predictions/test', methods=['GET']) \n",
    "#def api_predictions():\n",
    "#    predictions = pd.DataFrame(xgb_cls.predict(X_test), columns=['prediction'])\n",
    "#    predictions['patient'] = df.loc[X_test.index].index\n",
    "#    predictions = predictions.reindex(['patient', 'prediction'], axis=1)\n",
    "#\n",
    "#    predictions_json = predictions.to_json(orient='records')\n",
    "#\n",
    "#    return predictions_json\n",
    "\n",
    "\n",
    "# QUERY CON LA QUE OBTENEMOS LAS PREDICCIONES\n",
    "\n",
    "@app.route('/api/v1/resources/data/predictions', methods=['GET']) \n",
    "def api_predictions_query():\n",
    "\n",
    "    type_ = str(request.args[\"type\"])\n",
    "    \n",
    "    if type_ == 'test':\n",
    "            predictions_test = pd.DataFrame(xgb_cls.predict(X_test), columns=['prediction'])\n",
    "            predictions_test['patient'] = df.loc[X_test.index].index\n",
    "            predictions_test = predictions_test.reindex(['patient', 'prediction'], axis=1)\n",
    "\n",
    "            predictions_test_json = predictions_test.to_json(orient='records')\n",
    "\n",
    "            return predictions_test_json\n",
    "    \n",
    "    elif type_ == 'train':\n",
    "            predictions_train = pd.DataFrame(xgb_cls.predict(X_train), columns=['prediction'])\n",
    "            predictions_train['patient'] = df.loc[X_train.index].index\n",
    "            predictions_train = predictions_train.reindex(['patient', 'prediction'], axis=1)\n",
    "\n",
    "            predictions_train_json = predictions_train.to_json(orient='records')\n",
    "\n",
    "            return predictions_train_json\n",
    "\n",
    "app.run(port=5000)"
   ]
  },
  {
   "cell_type": "markdown",
   "metadata": {},
   "source": [
    "# URL´s"
   ]
  },
  {
   "cell_type": "code",
   "execution_count": null,
   "metadata": {},
   "outputs": [],
   "source": [
    "# http://127.0.0.1:5000/api/v1/resources/data/all\n",
    "\n",
    "# http://127.0.0.1:5000/api/v1/resources/data/test\n",
    "# http://127.0.0.1:5000/api/v1/resources/data/train\n",
    "\n",
    "# http://127.0.0.1:5000/api/v1/resources/data/all/60\n",
    "\n",
    "# http://127.0.0.1:5000/api/v1/resources/data/query?from=50&to=72\n",
    "\n",
    "# http://127.0.0.1:5000/api/v1/resources/data/predictions?type=test\n",
    "# http://127.0.0.1:5000/api/v1/resources/data/predictions?type=train"
   ]
  }
 ],
 "metadata": {
  "kernelspec": {
   "display_name": "Python 3",
   "language": "python",
   "name": "python3"
  },
  "language_info": {
   "codemirror_mode": {
    "name": "ipython",
    "version": 3
   },
   "file_extension": ".py",
   "mimetype": "text/x-python",
   "name": "python",
   "nbconvert_exporter": "python",
   "pygments_lexer": "ipython3",
   "version": "3.10.10"
  }
 },
 "nbformat": 4,
 "nbformat_minor": 2
}
